{
 "cells": [
  {
   "cell_type": "code",
   "execution_count": 1,
   "metadata": {},
   "outputs": [],
   "source": [
    "import pandas as pd\n",
    "import mysql.connector\n",
    "from sqlalchemy import create_engine"
   ]
  },
  {
   "cell_type": "code",
   "execution_count": 2,
   "metadata": {},
   "outputs": [],
   "source": [
    "# Configuración de la conexión a la base de datos\n",
    "usuario = 'root'\n",
    "contraseña = 'root1234'\n",
    "host = 'localhost'\n",
    "puerto = '3306'\n",
    "nombre_base_de_datos = 'hechosdb'\n",
    "ruta_archivo_csv = 'DataSetFinal.csv'"
   ]
  },
  {
   "cell_type": "code",
   "execution_count": 3,
   "metadata": {},
   "outputs": [],
   "source": [
    "# Crear una conexión a la base de datos MySQL usando mysql-connector-python\n",
    "conexion = mysql.connector.connect(\n",
    "    host=host,\n",
    "    user=usuario,\n",
    "    password=contraseña,\n",
    "    port=puerto,\n",
    "    database=nombre_base_de_datos  # Agregar esta línea para seleccionar la base de datos\n",
    ")"
   ]
  },
  {
   "cell_type": "code",
   "execution_count": 4,
   "metadata": {},
   "outputs": [],
   "source": [
    "# Crear el cursor para ejecutar consultas SQL\n",
    "cursor = conexion.cursor()"
   ]
  },
  {
   "cell_type": "code",
   "execution_count": 5,
   "metadata": {},
   "outputs": [],
   "source": [
    "# Nombre de la tabla en la base de datos\n",
    "nombre_tabla = 'hechos_victimas'"
   ]
  },
  {
   "cell_type": "code",
   "execution_count": 6,
   "metadata": {},
   "outputs": [],
   "source": [
    "# Eliminar la tabla si ya existe\n",
    "cursor.execute(f'DROP TABLE IF EXISTS {nombre_tabla}')"
   ]
  },
  {
   "cell_type": "code",
   "execution_count": 7,
   "metadata": {},
   "outputs": [],
   "source": [
    "# Cerrar el cursor y aplicar los cambios\n",
    "conexion.commit()\n",
    "cursor.close()\n",
    "conexion.close()"
   ]
  },
  {
   "cell_type": "code",
   "execution_count": 8,
   "metadata": {},
   "outputs": [],
   "source": [
    "# Crear una conexión a la base de datos recién creada usando sqlalchemy\n",
    "motor = create_engine(f'mysql+mysqlconnector://{usuario}:{contraseña}@{host}:{puerto}/{nombre_base_de_datos}')"
   ]
  },
  {
   "cell_type": "code",
   "execution_count": 9,
   "metadata": {},
   "outputs": [],
   "source": [
    "# Leer el archivo CSV en un DataFrame de pandas\n",
    "dataframe = pd.read_csv(ruta_archivo_csv)"
   ]
  },
  {
   "cell_type": "code",
   "execution_count": 10,
   "metadata": {},
   "outputs": [],
   "source": [
    "# Definir manualmente los tipos de datos para cada columna\n",
    "tipos_de_datos = {\n",
    "    'ID': 'object',\n",
    "    'N_VICTIMAS': 'int',\n",
    "    'FECHA_x': 'object',\n",
    "    'HH': 'object',\n",
    "    'LUGAR_DEL_HECHO': 'object',\n",
    "    'TIPO_DE_CALLE': 'object',\n",
    "    'Calle': 'object',\n",
    "    'Cruce': 'object',\n",
    "    'Dirección Normalizada': 'object',\n",
    "    'COMUNA': 'int',\n",
    "    'pos x': 'object',\n",
    "    'pos y': 'object',\n",
    "    'VICTIMA_x': 'object',\n",
    "    'ACUSADO':'object',\n",
    "    'ROL':'object',\n",
    "    'SEXO':'object',\n",
    "    'EDAD':'object',\n",
    "    'FECHA_FALLECIMIENTO': 'object',\n",
    "    # ... (elimina duplicados y ajustar según sea necesario)\n",
    "}"
   ]
  },
  {
   "cell_type": "code",
   "execution_count": 11,
   "metadata": {},
   "outputs": [],
   "source": [
    "# Aplicar los tipos de datos definidos manualmente\n",
    "for columna, tipo_dato in tipos_de_datos.items():\n",
    "    dataframe[columna] = dataframe[columna].astype(tipo_dato)"
   ]
  },
  {
   "cell_type": "code",
   "execution_count": 12,
   "metadata": {},
   "outputs": [
    {
     "data": {
      "text/plain": [
       "716"
      ]
     },
     "execution_count": 12,
     "metadata": {},
     "output_type": "execute_result"
    }
   ],
   "source": [
    "# Crear la tabla en la base de datos\n",
    "dataframe.to_sql(nombre_tabla, con=motor, index=False, if_exists='replace')"
   ]
  }
 ],
 "metadata": {
  "kernelspec": {
   "display_name": "Python 3",
   "language": "python",
   "name": "python3"
  },
  "language_info": {
   "codemirror_mode": {
    "name": "ipython",
    "version": 3
   },
   "file_extension": ".py",
   "mimetype": "text/x-python",
   "name": "python",
   "nbconvert_exporter": "python",
   "pygments_lexer": "ipython3",
   "version": "3.11.4"
  }
 },
 "nbformat": 4,
 "nbformat_minor": 2
}
