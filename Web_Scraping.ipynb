{
 "cells": [
  {
   "cell_type": "code",
   "execution_count": 3,
   "metadata": {},
   "outputs": [],
   "source": [
    "import requests\n",
    "from bs4 import BeautifulSoup\n",
    "import pandas as pd"
   ]
  },
  {
   "cell_type": "code",
   "execution_count": 4,
   "metadata": {},
   "outputs": [
    {
     "name": "stdout",
     "output_type": "stream",
     "text": [
      "Enlace del archivo: https://cdn.buenosaires.gob.ar/datosabiertos/datasets/transporte-y-obras-publicas/victimas-siniestros-viales/homicidios.xlsx\n"
     ]
    }
   ],
   "source": [
    "# URL de la página que contiene el enlace al archivo que deseas descargar\n",
    "url_pagina = 'https://data.buenosaires.gob.ar/dataset/victimas-siniestros-viales'\n",
    "\n",
    "# Realizar la solicitud GET a la página web\n",
    "response = requests.get(url_pagina)\n",
    "\n",
    "# Verificar si la solicitud fue exitosa (código de estado 200)\n",
    "if response.status_code == 200:\n",
    "    # Analizar el contenido HTML de la página\n",
    "    soup = BeautifulSoup(response.text, 'html.parser')\n",
    "\n",
    "    # Encontrar el segundo contenedor con la clase 'pkg-container'\n",
    "    contenedor = soup.find('div', {'id': 'pkg-main-info'}) \\\n",
    "                    .find_all('div', {'class': 'pkg-container'})[1]\n",
    "\n",
    "    # Buscar el enlace dentro de 'pkg-actions'\n",
    "    pkg_actions = contenedor.find('div', {'class': 'pkg-actions'})\n",
    "    enlace_archivo = pkg_actions.find('a', {'class': 'btn'})\n",
    "\n",
    "    if enlace_archivo:\n",
    "        # Obtener el valor del atributo href\n",
    "        url_descarga = enlace_archivo.get('href')\n",
    "\n",
    "        print('Enlace del archivo:', url_descarga)\n",
    "    else:\n",
    "        print('No se encontró el enlace al archivo en el segundo contenedor.')\n",
    "\n",
    "else:\n",
    "    print('Error al realizar la solicitud HTTP. Código de estado:', response.status_code)"
   ]
  },
  {
   "cell_type": "code",
   "execution_count": 6,
   "metadata": {},
   "outputs": [
    {
     "name": "stdout",
     "output_type": "stream",
     "text": [
      "Archivo descargado exitosamente.\n"
     ]
    }
   ],
   "source": [
    "response = requests.get(url_descarga)\n",
    "\n",
    "# Verifica si la solicitud fue exitosa (código de estado 200)\n",
    "if response.status_code == 200:\n",
    "    # Guarda el contenido del archivo en un archivo local\n",
    "    with open('datasets/hechos.xlsx', 'wb') as f:\n",
    "        f.write(response.content)\n",
    "\n",
    "    print('Archivo descargado exitosamente.')\n",
    "else:\n",
    "    print(f'Error al descargar el archivo. Código de estado: {response.status_code}')"
   ]
  },
  {
   "cell_type": "code",
   "execution_count": 7,
   "metadata": {},
   "outputs": [
    {
     "name": "stdout",
     "output_type": "stream",
     "text": [
      "Archivo CSV \"datasets/HECHOS.csv\" creado exitosamente.\n",
      "Archivo CSV \"datasets/DICCIONARIO_HECHOS.csv\" creado exitosamente.\n",
      "Archivo CSV \"datasets/VICTIMAS.csv\" creado exitosamente.\n",
      "Archivo CSV \"datasets/DICCIONARIO_VICTIMAS.csv\" creado exitosamente.\n",
      "Archivo CSV \"datasets/clas.csv\" creado exitosamente.\n"
     ]
    }
   ],
   "source": [
    "# Especifica la ruta de tu archivo Excel\n",
    "archivo_excel = 'datasets/hechos.xlsx'\n",
    "\n",
    "# Lee todas las hojas del archivo Excel\n",
    "hojas_excel = pd.read_excel(archivo_excel, sheet_name=None)\n",
    "\n",
    "# Especifica la carpeta donde deseas guardar los archivos CSV\n",
    "carpeta_csv = 'datasets/'\n",
    "\n",
    "# Itera sobre cada hoja y guarda el DataFrame en un archivo CSV\n",
    "for nombre_hoja, df in hojas_excel.items():\n",
    "    # Genera el nombre del archivo CSV para cada hoja\n",
    "    archivo_csv = f'{carpeta_csv}{nombre_hoja}.csv'\n",
    "\n",
    "    # Guarda el DataFrame en formato CSV\n",
    "    df.to_csv(archivo_csv, index=False)\n",
    "\n",
    "    print(f'Archivo CSV \"{archivo_csv}\" creado exitosamente.')\n"
   ]
  }
 ],
 "metadata": {
  "kernelspec": {
   "display_name": "Python 3",
   "language": "python",
   "name": "python3"
  },
  "language_info": {
   "codemirror_mode": {
    "name": "ipython",
    "version": 3
   },
   "file_extension": ".py",
   "mimetype": "text/x-python",
   "name": "python",
   "nbconvert_exporter": "python",
   "pygments_lexer": "ipython3",
   "version": "3.11.4"
  }
 },
 "nbformat": 4,
 "nbformat_minor": 2
}
